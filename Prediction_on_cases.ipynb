{
  "nbformat": 4,
  "nbformat_minor": 0,
  "metadata": {
    "colab": {
      "name": "Prediction_on_cases.ipynb",
      "provenance": [],
      "collapsed_sections": []
    },
    "kernelspec": {
      "name": "python3",
      "display_name": "Python 3"
    }
  },
  "cells": [
    {
      "cell_type": "markdown",
      "metadata": {
        "id": "PeH2PyPn1sFg",
        "colab_type": "text"
      },
      "source": [
        "**PREDICTIONS ON CONFIRM,DEATH AND RECOVERY**"
      ]
    },
    {
      "cell_type": "code",
      "metadata": {
        "id": "gWxsmOFt1zvi",
        "colab_type": "code",
        "colab": {}
      },
      "source": [
        "#intial imports,processing etc.\n",
        "import pandas as pd\n",
        "import matplotlib.pyplot as plt\n",
        "import seaborn as sns\n",
        "import plotly\n",
        "## conda install -c plotly plotly\n",
        "## conda install -c conda-forge plotly\n",
        "import plotly.express as px\n",
        "import plotly.graph_objects as go\n",
        "\n",
        "#Reading\n",
        "df = pd.read_csv(r'covid_19_clean.csv',parse_dates=['Date'])\n",
        "#renaming column names and determining active cases and appending it to data frame\n",
        "df.rename(columns={\"Country/Region\":\"country\",'Province/State':'state'},inplace=True)\n",
        "df['active'] = df['Confirmed'] - df['Deaths'] - df['Recovered']"
      ],
      "execution_count": 0,
      "outputs": []
    },
    {
      "cell_type": "code",
      "metadata": {
        "id": "n55FXj9016mX",
        "colab_type": "code",
        "colab": {}
      },
      "source": [
        "# fbprophet library created by facebook in Python to perform time series analysis and perform some prediction over date\n",
        "#conda install -c conda-forge fbprophet\n",
        "from fbprophet import Prophet"
      ],
      "execution_count": 0,
      "outputs": []
    },
    {
      "cell_type": "code",
      "metadata": {
        "id": "mt5VXMmc2JC6",
        "colab_type": "code",
        "colab": {}
      },
      "source": [
        "#grouping in df \n",
        "confirmed = df.groupby('Date').sum()['Confirmed'].reset_index()\n",
        "deaths = df.groupby('Date').sum()['Deaths'].reset_index()\n",
        "recovered = df.groupby('Date').sum()['Recovered'].reset_index()"
      ],
      "execution_count": 0,
      "outputs": []
    },
    {
      "cell_type": "code",
      "metadata": {
        "id": "gYbL0Non2VkD",
        "colab_type": "code",
        "colab": {}
      },
      "source": [
        "#renaming of columns for ease\n",
        "confirmed.columns = ['ds','y']\n",
        "deaths.columns =['ds','y']\n",
        "recovered.columns =['ds','y']"
      ],
      "execution_count": 0,
      "outputs": []
    },
    {
      "cell_type": "code",
      "metadata": {
        "id": "okcu1yM22v1Y",
        "colab_type": "code",
        "colab": {}
      },
      "source": [
        "#convert to datetime\n",
        "confirmed['ds'] = pd.to_datetime(confirmed['ds'])\n",
        "deaths['ds'] = pd.to_datetime(deaths['ds'])  \n",
        "recovered['ds'] = pd.to_datetime(recovered['ds'])    "
      ],
      "execution_count": 0,
      "outputs": []
    },
    {
      "cell_type": "code",
      "metadata": {
        "id": "PsYH0V013E-r",
        "colab_type": "code",
        "colab": {}
      },
      "source": [
        "#FOR CONFIRMED CASES \n",
        "\n",
        "#making a model of prophet with accuracy 95$\n",
        "m = Prophet(interval_width=0.95) \n",
        "#applyying data to model\n",
        "m.fit(confirmed)  \n",
        "#making furure prediction for next 10 days               \n",
        "future = m.make_future_dataframe(periods=10) \n",
        "# print last 5 days\n",
        "future.tail()                 "
      ],
      "execution_count": 0,
      "outputs": []
    },
    {
      "cell_type": "code",
      "metadata": {
        "id": "JNC0snZK3egT",
        "colab_type": "code",
        "colab": {}
      },
      "source": [
        "#forcast the predicted values\n",
        "forecast = m.predict(future)\n",
        "#data of prediction\n",
        "forecast.head()  "
      ],
      "execution_count": 0,
      "outputs": []
    },
    {
      "cell_type": "code",
      "metadata": {
        "id": "bGZbvnBr3qB6",
        "colab_type": "code",
        "colab": {}
      },
      "source": [
        "# ds - date\n",
        "# yhat - prediction made\n",
        "# yhat_lower - lower limit of prediction\n",
        "# yhoat_upper - upper limit of prediction\n",
        "\n",
        "#forcast 5 days predictions\n",
        "forecast[['ds','yhat','yhat_lower','yhat_upper']].tail()"
      ],
      "execution_count": 0,
      "outputs": []
    },
    {
      "cell_type": "code",
      "metadata": {
        "id": "4rXyBldN4Io0",
        "colab_type": "code",
        "colab": {}
      },
      "source": [
        "# ploting predicted value of confirmed cases\n",
        "confirmed_forecast_plot = m.plot(forecast)  \n",
        "# black dot = actual values\n",
        "# blue line = predicted values"
      ],
      "execution_count": 0,
      "outputs": []
    },
    {
      "cell_type": "code",
      "metadata": {
        "id": "zQGdDpNs4PKj",
        "colab_type": "code",
        "colab": {}
      },
      "source": [
        "#TREND #WEEKLY\n",
        "confirmed_forecast_plot = m.plot_components(forecast)"
      ],
      "execution_count": 0,
      "outputs": []
    },
    {
      "cell_type": "code",
      "metadata": {
        "id": "Wj-wE8V54hCQ",
        "colab_type": "code",
        "colab": {}
      },
      "source": [
        "\n"
      ],
      "execution_count": 0,
      "outputs": []
    }
  ]
}