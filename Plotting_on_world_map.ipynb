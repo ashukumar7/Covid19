{
  "nbformat": 4,
  "nbformat_minor": 0,
  "metadata": {
    "colab": {
      "name": "Plotting_on_world_map.ipynb",
      "provenance": [],
      "collapsed_sections": []
    },
    "kernelspec": {
      "name": "python3",
      "display_name": "Python 3"
    }
  },
  "cells": [
    {
      "cell_type": "markdown",
      "metadata": {
        "id": "Le0p9ue9wisA",
        "colab_type": "text"
      },
      "source": [
        "**ADD CODES/MODIFY, PLOT ON WORLD MAP**"
      ]
    },
    {
      "cell_type": "code",
      "metadata": {
        "id": "yOZkeUBUwx6A",
        "colab_type": "code",
        "colab": {}
      },
      "source": [
        "import pandas as pd\n",
        "import matplotlib.pyplot as plt\n",
        "import seaborn as sns\n",
        "import plotly\n",
        "## conda install -c plotly plotly\n",
        "## conda install -c conda-forge plotly\n",
        "import plotly.express as px\n",
        "import plotly.graph_objects as go\n",
        "\n",
        "\n",
        "df = pd.read_csv(r'covid_19_clean.csv',parse_dates=['Date'])\n",
        "df.head()"
      ],
      "execution_count": 0,
      "outputs": []
    },
    {
      "cell_type": "code",
      "metadata": {
        "id": "zXeYPf0dw4-8",
        "colab_type": "code",
        "colab": {}
      },
      "source": [
        "df.rename(columns={\"Country/Region\":\"country\",'Province/State':'state'},inplace=True)\n",
        "df['active'] = df['Confirmed'] - df['Deaths'] - df['Recovered']\n",
        "top = df[df['Date'] == df['Date'].max()]\n",
        "\n",
        "world = top.groupby('country')['Confirmed','active','Deaths'].sum()\n",
        "world = top.groupby('country')['Confirmed','active','Deaths'].sum().reset_index()\n",
        "world.head()"
      ],
      "execution_count": 0,
      "outputs": []
    },
    {
      "cell_type": "code",
      "metadata": {
        "id": "yXXjoJL2xGyj",
        "colab_type": "code",
        "colab": {}
      },
      "source": [
        "#PLOTTING ON WORLD MAP\n",
        "figure = px.choropleth(world,locations=\"country\",locationmode='country names' \n",
        "                       ,color=\"active\",hover_name=\"country\",range_color=[1,1000],\n",
        "                      color_continuous_scale=\"Peach\",title=\"Country with Active Cases\")\n",
        "figure.show()"
      ],
      "execution_count": 0,
      "outputs": []
    },
    {
      "cell_type": "markdown",
      "metadata": {
        "id": "K7jjh9uLxkaU",
        "colab_type": "text"
      },
      "source": [
        "**PLOTTING CONFIRMED CASES ALL OVER WORLD**"
      ]
    },
    {
      "cell_type": "code",
      "metadata": {
        "id": "x9nNuLn5xt6K",
        "colab_type": "code",
        "colab": {}
      },
      "source": [
        "plt.figure(figsize=(15,10))\n",
        "plt.xlabel(\"Dates\",fontsize=30)\n",
        "plt.ylabel(\"Total Cases\",fontsize=30)\n",
        "plt.title(\"Worldwide Confirmed Cases Over Time\",fontsize=30)\n",
        "total_cases = df.groupby('Date')['Date','Confirmed'].sum().reset_index()\n",
        "total_cases['Date'] = pd.to_datetime(total_cases['Date'])\n",
        "a = sns.pointplot(x = total_cases.Date.dt.date,y=total_cases.Confirmed,color='r')\n",
        "a.set(xlabel=\"Dates\",ylabel=\"Total Cases\")"
      ],
      "execution_count": 0,
      "outputs": []
    },
    {
      "cell_type": "code",
      "metadata": {
        "id": "G8Oz-Tn4xySC",
        "colab_type": "code",
        "colab": {}
      },
      "source": [
        "#Changing xticks and yticks\n",
        "plt.figure(figsize=(15,10))\n",
        "plt.xticks(rotation=90,fontsize=10)\n",
        "plt.yticks(fontsize=15)\n",
        "plt.xlabel(\"Dates\",fontsize=30)\n",
        "plt.ylabel(\"Total Cases\",fontsize=30)\n",
        "plt.title(\"Worldwide Confirmed Cases Over Time\",fontsize=30)\n",
        "total_cases = df.groupby('Date')['Date','Confirmed'].sum().reset_index()\n",
        "total_cases['Date'] = pd.to_datetime(total_cases['Date'])\n",
        "a = sns.pointplot(x = total_cases.Date.dt.date,y=total_cases.Confirmed,color='r')\n",
        "a.set(xlabel=\"Dates\",ylabel=\"Total Cases\")\n",
        "\n"
      ],
      "execution_count": 0,
      "outputs": []
    },
    {
      "cell_type": "markdown",
      "metadata": {
        "id": "Kw20MBghyIgM",
        "colab_type": "text"
      },
      "source": [
        "**PLOT FOR TOP 20**"
      ]
    },
    {
      "cell_type": "code",
      "metadata": {
        "id": "SpTjP7IeyZJO",
        "colab_type": "code",
        "colab": {}
      },
      "source": [
        "#group by country\n",
        "top_actives = top.groupby(by='country')['active'].sum()\n",
        "top_actives.head()"
      ],
      "execution_count": 0,
      "outputs": []
    },
    {
      "cell_type": "code",
      "metadata": {
        "id": "DBGZJMG6yfFC",
        "colab_type": "code",
        "colab": {}
      },
      "source": [
        "#filtering top 20 active country with active cases\n",
        "top_actives = top.groupby(by='country')['active'].sum().sort_values(ascending=False).reset_index().head(20)"
      ],
      "execution_count": 0,
      "outputs": []
    },
    {
      "cell_type": "code",
      "metadata": {
        "id": "pgxDmvC_ynaR",
        "colab_type": "code",
        "colab": {}
      },
      "source": [
        "#PLOTTING top 20 active cases country\n",
        "plt.figure(figsize=(15,10))\n",
        "plt.xticks(fontsize=15)\n",
        "plt.yticks(fontsize=15)\n",
        "plt.xlabel(\"Total Cases\",fontsize=30)\n",
        "plt.ylabel(\"Country\",fontsize=30)\n",
        "plt.title(\"Top 20 Countries having most active cases\",fontsize=30)\n",
        "ax = sns.barplot(x=top_actives.active,y=top_actives.country)\n",
        "ax.set(xlabel=\"Total Cases\",ylabel=\"Country\")"
      ],
      "execution_count": 0,
      "outputs": []
    },
    {
      "cell_type": "code",
      "metadata": {
        "id": "ocln-4aczAlK",
        "colab_type": "code",
        "colab": {}
      },
      "source": [
        "#PLOTTING WITH MARKING ACTUAL ACTIVE CASES\n",
        "plt.figure(figsize=(15,10))\n",
        "plt.xticks(fontsize=15)\n",
        "plt.yticks(fontsize=15)\n",
        "plt.xlabel(\"Total Cases\",fontsize=30)\n",
        "plt.ylabel(\"Country\",fontsize=30)\n",
        "plt.title(\"Top 20 Countries having most active cases\",fontsize=30)\n",
        "ax = sns.barplot(x=top_actives.active,y=top_actives.country)\n",
        "for i,(value,name) in enumerate(zip(top_actives.active,top_actives.country)):\n",
        "    ax.text(value,i-0.05,f'{value:,.0f}',size=10,ha='left',va='center')\n",
        "ax.set(xlabel=\"Total Cases\",ylabel=\"Country\")"
      ],
      "execution_count": 0,
      "outputs": []
    },
    {
      "cell_type": "code",
      "metadata": {
        "id": "HHQTNa9JzFRL",
        "colab_type": "code",
        "colab": {}
      },
      "source": [
        "#PLOTTING FOR TOP 20 DEATH CASES COUNTRY\n",
        "top_deaths = top.groupby(by='country')['Deaths'].sum().sort_values(ascending=False).reset_index().head(20)\n",
        "\n",
        "plt.figure(figsize=(15,10))\n",
        "plt.xticks(fontsize=15)\n",
        "plt.yticks(fontsize=15)\n",
        "plt.xlabel(\"Total Cases\",fontsize=30)\n",
        "plt.ylabel(\"Country\",fontsize=30)\n",
        "plt.title(\"Top 20 Countries having most death cases\",fontsize=30)\n",
        "ax = sns.barplot(x=top_deaths.Deaths,y=top_deaths.country)\n",
        "ax.set(xlabel=\"Total Cases\",ylabel=\"Country\")"
      ],
      "execution_count": 0,
      "outputs": []
    },
    {
      "cell_type": "code",
      "metadata": {
        "id": "ZGXw7f8ezSvw",
        "colab_type": "code",
        "colab": {}
      },
      "source": [
        "#PLOTTING FOR TOP 20 RECOVERED CASES COUNTRY\n",
        "top_deaths = top.groupby(by='country')['Recovered'].sum().sort_values(ascending=False).reset_index().head(20)\n",
        "\n",
        "plt.figure(figsize=(15,10))\n",
        "plt.xticks(fontsize=15)\n",
        "plt.yticks(fontsize=15)\n",
        "plt.xlabel(\"Total Cases\",fontsize=30)\n",
        "plt.ylabel(\"Country\",fontsize=30)\n",
        "plt.title(\"Top 20 Countries having most Recovered cases\",fontsize=30)\n",
        "ax = sns.barplot(x=top_deaths.Recovered,y=top_deaths.country)\n",
        "ax.set(xlabel=\"Total Cases\",ylabel=\"Country\")"
      ],
      "execution_count": 0,
      "outputs": []
    },
    {
      "cell_type": "markdown",
      "metadata": {
        "id": "jSSrT-amzkne",
        "colab_type": "text"
      },
      "source": [
        "**ADD MODIFIED CODE OR CHANGES BELOW**"
      ]
    }
  ]
}