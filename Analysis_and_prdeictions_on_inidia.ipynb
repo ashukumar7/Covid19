{
  "nbformat": 4,
  "nbformat_minor": 0,
  "metadata": {
    "colab": {
      "name": "Analysis_and_prdeictions_on_inidia.ipynb",
      "provenance": [],
      "collapsed_sections": []
    },
    "kernelspec": {
      "name": "python3",
      "display_name": "Python 3"
    }
  },
  "cells": [
    {
      "cell_type": "markdown",
      "metadata": {
        "id": "v9dzQuCC5KDO",
        "colab_type": "text"
      },
      "source": [
        "**ANALYSIS FOR INDIAN CASES AND FUTURE PREDICTIONS**"
      ]
    },
    {
      "cell_type": "code",
      "metadata": {
        "id": "k04CBZ_05R2N",
        "colab_type": "code",
        "colab": {}
      },
      "source": [
        "#intial imports,processing etc.\n",
        "import pandas as pd\n",
        "import matplotlib.pyplot as plt\n",
        "import seaborn as sns\n",
        "import plotly\n",
        "## conda install -c plotly plotly\n",
        "## conda install -c conda-forge plotly\n",
        "import plotly.express as px\n",
        "import plotly.graph_objects as go\n",
        "\n",
        "#Reading\n",
        "df = pd.read_csv(r'covid_19_clean.csv',parse_dates=['Date'])\n",
        "#renaming column names and determining active cases and appending it to data frame\n",
        "df.rename(columns={\"Country/Region\":\"country\",'Province/State':'state'},inplace=True)\n",
        "df['active'] = df['Confirmed'] - df['Deaths'] - df['Recovered']"
      ],
      "execution_count": 0,
      "outputs": []
    },
    {
      "cell_type": "code",
      "metadata": {
        "id": "WY_O4-Jj5Y90",
        "colab_type": "code",
        "colab": {}
      },
      "source": [
        "# fbprophet library created by facebook in Python to perform time series analysis and perform some prediction over date\n",
        "#conda install -c conda-forge fbprophet\n",
        "from fbprophet import Prophet"
      ],
      "execution_count": 0,
      "outputs": []
    },
    {
      "cell_type": "code",
      "metadata": {
        "id": "vGfF7y6_5cK2",
        "colab_type": "code",
        "colab": {}
      },
      "source": [
        "#FILTERING ALL DATA RELATING TO INDIA\n",
        "df_india = df.query('country==\"India\"')"
      ],
      "execution_count": 0,
      "outputs": []
    },
    {
      "cell_type": "code",
      "metadata": {
        "id": "EAA2GTsv5sLR",
        "colab_type": "code",
        "colab": {}
      },
      "source": [
        "#print head\n",
        "df_india.head()"
      ],
      "execution_count": 0,
      "outputs": []
    },
    {
      "cell_type": "code",
      "metadata": {
        "id": "kL6nOHK05v24",
        "colab_type": "code",
        "colab": {}
      },
      "source": [
        "#grouping\n",
        "df_india = df.query('country==\"India\"').groupby('Date')[['Confirmed','Deaths','Recovered']].sum().reset_index()"
      ],
      "execution_count": 0,
      "outputs": []
    },
    {
      "cell_type": "code",
      "metadata": {
        "id": "MMI7Qetp5zZW",
        "colab_type": "code",
        "colab": {}
      },
      "source": [
        "#creating seperate df for each kind of cases\n",
        "india_confirmed,india_deaths,india_recovered = df_india[['Date','Confirmed']],df_india[['Date','Deaths']],df_india[['Date','Recovered']]"
      ],
      "execution_count": 0,
      "outputs": []
    },
    {
      "cell_type": "code",
      "metadata": {
        "id": "ztduwTPJ5_Wr",
        "colab_type": "code",
        "colab": {}
      },
      "source": [
        "#print to check\n",
        "india_confirmed\n",
        "india_deaths\n",
        "india_recovered"
      ],
      "execution_count": 0,
      "outputs": []
    },
    {
      "cell_type": "code",
      "metadata": {
        "id": "BZFH1zF36F0g",
        "colab_type": "code",
        "colab": {}
      },
      "source": [
        "#prediction on confirmed cases\n",
        "#renaming\n",
        "india_confirmed.columns = ['ds','y']\n",
        "#date format change\n",
        "india_confirmed['ds'] = pd.to_datetime(india_confirmed['ds']) "
      ],
      "execution_count": 0,
      "outputs": []
    },
    {
      "cell_type": "code",
      "metadata": {
        "id": "vuqKXB-F6Ojw",
        "colab_type": "code",
        "colab": {}
      },
      "source": [
        "#checking df structure\n",
        "india_confirmed.head()"
      ],
      "execution_count": 0,
      "outputs": []
    },
    {
      "cell_type": "code",
      "metadata": {
        "id": "CwIjTeBD6WDa",
        "colab_type": "code",
        "colab": {}
      },
      "source": [
        "#making a model of prophet with accuracy 95$\n",
        "m = Prophet(interval_width=0.95)   \n",
        "#applyying data to model\n",
        "m.fit(india_confirmed)\n",
        "#making furure prediction for next 10 days                 \n",
        "future = m.make_future_dataframe(periods=10)  \n",
        "# print last 5 days\n",
        "future.tail()                 "
      ],
      "execution_count": 0,
      "outputs": []
    },
    {
      "cell_type": "code",
      "metadata": {
        "id": "HZNrWq9o6lgK",
        "colab_type": "code",
        "colab": {}
      },
      "source": [
        "#frocasting\n",
        "forecast = m.predict(future)\n",
        "#printing last 5\n",
        "forecast[['ds','yhat','yhat_lower','yhat_upper']].tail()"
      ],
      "execution_count": 0,
      "outputs": []
    },
    {
      "cell_type": "code",
      "metadata": {
        "id": "QHwMnak46zAr",
        "colab_type": "code",
        "colab": {}
      },
      "source": [
        "# ploting predicted value of confirmed cases\n",
        "india_confirmed_forecast_plot = m.plot(forecast)  "
      ],
      "execution_count": 0,
      "outputs": []
    },
    {
      "cell_type": "code",
      "metadata": {
        "id": "BGdG8P7b627R",
        "colab_type": "code",
        "colab": {}
      },
      "source": [
        "#trend and weekly\n",
        "india_confirmed_forecast_plot = m.plot_components(forecast)"
      ],
      "execution_count": 0,
      "outputs": []
    },
    {
      "cell_type": "markdown",
      "metadata": {
        "id": "Jft7qjH26_b3",
        "colab_type": "text"
      },
      "source": [
        "**ADD CODES FOR DEATH OR RECOVERY PREDICTIONS BELOW. ADD MODIFICATIONS BELOW**"
      ]
    }
  ]
}