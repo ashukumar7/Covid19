{
  "nbformat": 4,
  "nbformat_minor": 0,
  "metadata": {
    "colab": {
      "name": "Initial Process.ipynb",
      "provenance": [],
      "collapsed_sections": []
    },
    "kernelspec": {
      "name": "python3",
      "display_name": "Python 3"
    }
  },
  "cells": [
    {
      "cell_type": "markdown",
      "metadata": {
        "id": "13Rr9l4nt6B3",
        "colab_type": "text"
      },
      "source": [
        "**PUT DATA CLEANING/FORMAT CHANGING, Codes Here. (Don't mess with all_in_one page)**"
      ]
    },
    {
      "cell_type": "code",
      "metadata": {
        "id": "coqzUVdauoxq",
        "colab_type": "code",
        "colab": {}
      },
      "source": [
        "#IMPORTING LIBRARIES\n",
        "\n",
        "import pandas as pd\n",
        "import matplotlib.pyplot as plt\n",
        "import seaborn as sns\n",
        "import plotly\n",
        "## conda install -c plotly plotly\n",
        "## conda install -c conda-forge plotly\n",
        "import plotly.express as px\n",
        "import plotly.graph_objects as go"
      ],
      "execution_count": 0,
      "outputs": []
    },
    {
      "cell_type": "code",
      "metadata": {
        "id": "NHOZq4xzuv_s",
        "colab_type": "code",
        "colab": {}
      },
      "source": [
        "#read csv file\n",
        "df = pd.read_csv(r'covid_19_clean.csv')\n",
        "#print some rows\n",
        "df.head()"
      ],
      "execution_count": 0,
      "outputs": []
    },
    {
      "cell_type": "code",
      "metadata": {
        "id": "ghN4KwqfuzUu",
        "colab_type": "code",
        "colab": {}
      },
      "source": [
        "#inofrmation about data frame\n",
        "df.info()"
      ],
      "execution_count": 0,
      "outputs": []
    },
    {
      "cell_type": "code",
      "metadata": {
        "id": "GTHViVSeu1uZ",
        "colab_type": "code",
        "colab": {}
      },
      "source": [
        "#change date format fro object type to datetime64\n",
        "df = pd.read_csv(r'covid_19_clean.csv',parse_dates=['Date'])\n",
        "df.head()"
      ],
      "execution_count": 0,
      "outputs": []
    },
    {
      "cell_type": "code",
      "metadata": {
        "id": "zkCIuQ3gu63i",
        "colab_type": "code",
        "colab": {}
      },
      "source": [
        "#Changed format of date, printing df info again\n",
        "df.info()"
      ],
      "execution_count": 0,
      "outputs": []
    },
    {
      "cell_type": "code",
      "metadata": {
        "id": "lm_OfCWVvDrM",
        "colab_type": "code",
        "colab": {}
      },
      "source": [
        "#changing names for convinience\n",
        "df.rename(columns={\"Country/Region\":\"country\",'Province/State':'state'},inplace=True)"
      ],
      "execution_count": 0,
      "outputs": []
    },
    {
      "cell_type": "code",
      "metadata": {
        "id": "6rR5qCpJvIiJ",
        "colab_type": "code",
        "colab": {}
      },
      "source": [
        "#determining active cases and appending it to data frame\n",
        "df['active'] = df['Confirmed'] - df['Deaths'] - df['Recovered']"
      ],
      "execution_count": 0,
      "outputs": []
    },
    {
      "cell_type": "code",
      "metadata": {
        "id": "eNUx6jyAvMd0",
        "colab_type": "code",
        "colab": {}
      },
      "source": [
        "#dataframe filtering out data of updated date (recent data)\n",
        "top = df[df['Date'] == df['Date'].max()]"
      ],
      "execution_count": 0,
      "outputs": []
    },
    {
      "cell_type": "code",
      "metadata": {
        "id": "Auy5gO3EvNrX",
        "colab_type": "code",
        "colab": {}
      },
      "source": [
        "#grouping data of each country (total cases till now) from filtered dataframe\n",
        "world = top.groupby('country')['Confirmed','active','Deaths'].sum()"
      ],
      "execution_count": 0,
      "outputs": []
    },
    {
      "cell_type": "code",
      "metadata": {
        "id": "DNcm1MB0vP6l",
        "colab_type": "code",
        "colab": {}
      },
      "source": [
        "#restting index \n",
        "world = top.groupby('country')['Confirmed','active','Deaths'].sum().reset_index()\n",
        "world.head()"
      ],
      "execution_count": 0,
      "outputs": []
    },
    {
      "cell_type": "markdown",
      "metadata": {
        "id": "fj1eJ22FvWYN",
        "colab_type": "text"
      },
      "source": [
        "**ADD YOUR CHANGES FROM BELOW**"
      ]
    }
  ]
}