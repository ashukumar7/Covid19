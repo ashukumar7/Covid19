{
  "nbformat": 4,
  "nbformat_minor": 0,
  "metadata": {
    "colab": {
      "name": "Contrywise_plotting.ipynb",
      "provenance": [],
      "collapsed_sections": []
    },
    "kernelspec": {
      "name": "python3",
      "display_name": "Python 3"
    }
  },
  "cells": [
    {
      "cell_type": "markdown",
      "metadata": {
        "id": "9e6cYREYz32S",
        "colab_type": "text"
      },
      "source": [
        "**PLOTTING FOR SOME COUNTRIES**"
      ]
    },
    {
      "cell_type": "code",
      "metadata": {
        "id": "6wXO6MWVz7co",
        "colab_type": "code",
        "colab": {}
      },
      "source": [
        "#intial imports and executions\n",
        "import pandas as pd\n",
        "import matplotlib.pyplot as plt\n",
        "import seaborn as sns\n",
        "import plotly\n",
        "## conda install -c plotly plotly\n",
        "## conda install -c conda-forge plotly\n",
        "import plotly.express as px\n",
        "import plotly.graph_objects as go\n",
        "\n",
        "#Reading\n",
        "df = pd.read_csv(r'covid_19_clean.csv',parse_dates=['Date'])\n",
        "#renaming column names and determining active cases and appending it to data frame\n",
        "df.rename(columns={\"Country/Region\":\"country\",'Province/State':'state'},inplace=True)\n",
        "df['active'] = df['Confirmed'] - df['Deaths'] - df['Recovered']"
      ],
      "execution_count": 0,
      "outputs": []
    },
    {
      "cell_type": "code",
      "metadata": {
        "id": "8yE9CMOH0Hyr",
        "colab_type": "code",
        "colab": {}
      },
      "source": [
        "#dataframe for china\n",
        "china = df[df.country == 'China']\n",
        "china = china.groupby(by='Date')['Recovered','active','Confirmed','Deaths'].sum().reset_index()\n",
        "china.head(10)"
      ],
      "execution_count": 0,
      "outputs": []
    },
    {
      "cell_type": "code",
      "metadata": {
        "id": "ZHoXGL6U0ruf",
        "colab_type": "code",
        "colab": {}
      },
      "source": [
        "#dataframe for US\n",
        "us = df[df.country == 'US']\n",
        "us = us.groupby(by='Date')['Recovered','active','Confirmed','Deaths'].sum().reset_index()\n",
        "us.head(10)"
      ],
      "execution_count": 0,
      "outputs": []
    },
    {
      "cell_type": "code",
      "metadata": {
        "id": "lPlffCLA0vEB",
        "colab_type": "code",
        "colab": {}
      },
      "source": [
        "#dataframe for Italy\n",
        "italy = df[df.country == 'Italy']\n",
        "italy = italy.groupby(by='Date')['Recovered','active','Confirmed','Deaths'].sum().reset_index()\n",
        "italy.head(10)"
      ],
      "execution_count": 0,
      "outputs": []
    },
    {
      "cell_type": "code",
      "metadata": {
        "id": "ikkxyrX00156",
        "colab_type": "code",
        "colab": {}
      },
      "source": [
        "#dataframe for india\n",
        "india = df[df.country == 'India']\n",
        "india = india.groupby(by='Date')['Recovered','active','Confirmed','Deaths'].sum().reset_index()\n",
        "india.head(10)"
      ],
      "execution_count": 0,
      "outputs": []
    },
    {
      "cell_type": "code",
      "metadata": {
        "id": "gZz6d0xz048m",
        "colab_type": "code",
        "colab": {}
      },
      "source": [
        "#PLOTTING CONFIRMED CASES OVER TIME\n",
        "plt.figure(figsize=(15,10))\n",
        "sns.pointplot(china.index,china.Confirmed,color=\"Red\")\n",
        "sns.pointplot(us.index,us.Confirmed,color=\"Green\")\n",
        "sns.pointplot(italy.index,italy.Confirmed,color=\"Blue\")\n",
        "sns.pointplot(india.index,india.Confirmed,color=\"Yellow\")\n",
        "plt.title(\"Confirmed Cases over time\", fontsize=25)\n",
        "plt.ylabel(\"Confirmed Cases\",fontsize=15)\n",
        "plt.xlabel(\"No. Of Days\",fontsize=15)\n",
        "plt.show()"
      ],
      "execution_count": 0,
      "outputs": []
    },
    {
      "cell_type": "code",
      "metadata": {
        "id": "YZqD284f1B5z",
        "colab_type": "code",
        "colab": {}
      },
      "source": [
        "#PLOTTING DEATH CASES OVER TIME\n",
        "plt.figure(figsize=(15,10))\n",
        "sns.pointplot(china.index,china.Recovered,color=\"Red\")\n",
        "sns.pointplot(us.index,us.Recovered,color=\"Green\")\n",
        "sns.pointplot(italy.index,italy.Recovered,color=\"Blue\")\n",
        "sns.pointplot(india.index,india.Recovered,color=\"Yellow\")\n",
        "plt.title(\"Recovered Cases over time\", fontsize=25)\n",
        "plt.ylabel(\"Recovered Cases\",fontsize=15)\n",
        "plt.xlabel(\"No. Of Days\",fontsize=15)\n",
        "plt.show()"
      ],
      "execution_count": 0,
      "outputs": []
    },
    {
      "cell_type": "code",
      "metadata": {
        "id": "qX2OfR8Z1KEl",
        "colab_type": "code",
        "colab": {}
      },
      "source": [
        "#PLOTTING RECOVERED CASES OVER TIME\n",
        "plt.figure(figsize=(15,10))\n",
        "sns.pointplot(china.index,china.active,color=\"Red\")\n",
        "sns.pointplot(us.index,us.active,color=\"Green\")\n",
        "sns.pointplot(italy.index,italy.active,color=\"Blue\")\n",
        "sns.pointplot(india.index,india.active,color=\"Yellow\")\n",
        "plt.title(\"active Cases over time\", fontsize=25)\n",
        "plt.ylabel(\"active Cases\",fontsize=15)\n",
        "plt.xlabel(\"No. Of Days\",fontsize=15)\n",
        "plt.show()"
      ],
      "execution_count": 0,
      "outputs": []
    },
    {
      "cell_type": "markdown",
      "metadata": {
        "id": "8UE1sVva1eEX",
        "colab_type": "text"
      },
      "source": [
        "**ADD YOUR MODIFIED CODE BELOW**"
      ]
    }
  ]
}